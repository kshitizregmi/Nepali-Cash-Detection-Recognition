{
 "cells": [
  {
   "cell_type": "code",
   "execution_count": null,
   "metadata": {},
   "outputs": [],
   "source": [
    "# !pip install --upgrade --no-cache-dir gdown"
   ]
  },
  {
   "cell_type": "code",
   "execution_count": null,
   "metadata": {},
   "outputs": [],
   "source": [
    "# !pip install tensorflow"
   ]
  },
  {
   "cell_type": "code",
   "execution_count": null,
   "metadata": {
    "id": "7QhRRr6Dal4V"
   },
   "outputs": [],
   "source": [
    "# !unzip -oq bank_notes.zip"
   ]
  },
  {
   "cell_type": "code",
   "execution_count": null,
   "metadata": {},
   "outputs": [],
   "source": [
    "# !python3 -c \"import tensorflow as tf; print(tf.config.list_physical_devices('GPU'))\""
   ]
  },
  {
   "cell_type": "code",
   "execution_count": 2,
   "metadata": {
    "colab": {
     "base_uri": "https://localhost:8080/"
    },
    "id": "_E2T-qOybZE7",
    "outputId": "85e6efc1-ee4b-45ad-8639-b00d2921619c"
   },
   "outputs": [
    {
     "name": "stdout",
     "output_type": "stream",
     "text": [
      "Found 6300 files belonging to 7 classes.\n",
      "Found 2100 files belonging to 7 classes.\n",
      "Found 1349 files belonging to 7 classes.\n"
     ]
    }
   ],
   "source": [
    "import tensorflow as tf\n",
    "tf.random.set_seed(40)\n",
    "\n",
    "# training image\n",
    "train_image_path = 'bank_notes/train'\n",
    "IMG_SHAPE = 150\n",
    "training_images =  tf.keras.utils.image_dataset_from_directory(train_image_path,\n",
    "                                                               image_size=(IMG_SHAPE, IMG_SHAPE),\n",
    "                                                               shuffle=True, seed = 0, batch_size = 64)\n",
    "\n",
    "validation_image_path = 'bank_notes/valid'\n",
    "validation_images =  tf.keras.utils.image_dataset_from_directory(validation_image_path,\n",
    "                                                               image_size=(IMG_SHAPE, IMG_SHAPE),\n",
    "                                                               shuffle=False, seed = 0, batch_size = 16\n",
    "                                                               )\n",
    "\n",
    "test_image_path = 'bank_notes/test'\n",
    "test_images =  tf.keras.utils.image_dataset_from_directory(test_image_path,\n",
    "                                                               image_size=(IMG_SHAPE, IMG_SHAPE),\n",
    "                                                               shuffle=False,seed = 0, batch_size = 32\n",
    "                                                               )"
   ]
  },
  {
   "cell_type": "code",
   "execution_count": 6,
   "metadata": {
    "id": "mCFmZb_Qdeih"
   },
   "outputs": [],
   "source": [
    "import tensorflow as tf\n",
    "\n",
    "data_augmentation = tf.keras.Sequential([\n",
    "    tf.keras.layers.Rescaling(1./255),\n",
    "    tf.keras.layers.RandomRotation(30),\n",
    "    tf.keras.layers.RandomFlip(\"horizontal\"),\n",
    "    tf.keras.layers.RandomZoom(0.5)\n",
    "])"
   ]
  },
  {
   "cell_type": "code",
   "execution_count": 7,
   "metadata": {
    "colab": {
     "base_uri": "https://localhost:8080/"
    },
    "id": "VCgy83Y9d3fG",
    "outputId": "4c9ce0d3-6c91-40f7-a1a0-d78fdae4a163"
   },
   "outputs": [
    {
     "name": "stdout",
     "output_type": "stream",
     "text": [
      "WARNING:tensorflow:From /opt/conda/lib/python3.7/site-packages/tensorflow/python/autograph/pyct/static_analysis/liveness.py:83: Analyzer.lamba_check (from tensorflow.python.autograph.pyct.static_analysis.liveness) is deprecated and will be removed after 2023-09-23.\n",
      "Instructions for updating:\n",
      "Lambda fuctions will be no more assumed to be used in the statement where they are used, or at least in the same block. https://github.com/tensorflow/tensorflow/issues/56089\n",
      "WARNING:tensorflow:Using a while_loop for converting RngReadAndSkip cause there is no registered converter for this op.\n",
      "WARNING:tensorflow:Using a while_loop for converting Bitcast cause there is no registered converter for this op.\n",
      "WARNING:tensorflow:Using a while_loop for converting Bitcast cause there is no registered converter for this op.\n",
      "WARNING:tensorflow:Using a while_loop for converting StatelessRandomUniformV2 cause there is no registered converter for this op.\n",
      "WARNING:tensorflow:Using a while_loop for converting ImageProjectiveTransformV3 cause there is no registered converter for this op.\n",
      "WARNING:tensorflow:Using a while_loop for converting RngReadAndSkip cause there is no registered converter for this op.\n",
      "WARNING:tensorflow:Using a while_loop for converting Bitcast cause there is no registered converter for this op.\n",
      "WARNING:tensorflow:Using a while_loop for converting Bitcast cause there is no registered converter for this op.\n",
      "WARNING:tensorflow:Using a while_loop for converting StatelessRandomUniformV2 cause there is no registered converter for this op.\n",
      "WARNING:tensorflow:Using a while_loop for converting ImageProjectiveTransformV3 cause there is no registered converter for this op.\n",
      "WARNING:tensorflow:Using a while_loop for converting RngReadAndSkip cause there is no registered converter for this op.\n",
      "WARNING:tensorflow:Using a while_loop for converting Bitcast cause there is no registered converter for this op.\n",
      "WARNING:tensorflow:Using a while_loop for converting Bitcast cause there is no registered converter for this op.\n",
      "WARNING:tensorflow:Using a while_loop for converting StatelessRandomUniformV2 cause there is no registered converter for this op.\n",
      "WARNING:tensorflow:Using a while_loop for converting ImageProjectiveTransformV3 cause there is no registered converter for this op.\n",
      "WARNING:tensorflow:Using a while_loop for converting RngReadAndSkip cause there is no registered converter for this op.\n",
      "WARNING:tensorflow:Using a while_loop for converting Bitcast cause there is no registered converter for this op.\n",
      "WARNING:tensorflow:Using a while_loop for converting Bitcast cause there is no registered converter for this op.\n",
      "WARNING:tensorflow:Using a while_loop for converting StatelessRandomUniformV2 cause there is no registered converter for this op.\n",
      "WARNING:tensorflow:Using a while_loop for converting ImageProjectiveTransformV3 cause there is no registered converter for this op.\n"
     ]
    }
   ],
   "source": [
    "train_images = training_images.map(lambda x, y: (data_augmentation(x), y))"
   ]
  },
  {
   "cell_type": "code",
   "execution_count": 8,
   "metadata": {
    "id": "NiPTwuq8eSZ_"
   },
   "outputs": [],
   "source": [
    "import tensorflow as tf\n",
    "\n",
    "data_rescale = tf.keras.Sequential([\n",
    "    tf.keras.layers.Rescaling(1./255)\n",
    "])"
   ]
  },
  {
   "cell_type": "code",
   "execution_count": 9,
   "metadata": {
    "id": "ZrN7XuuRehC3"
   },
   "outputs": [],
   "source": [
    "validation_images = validation_images.map(lambda x, y: (data_rescale(x), y))"
   ]
  },
  {
   "cell_type": "code",
   "execution_count": 22,
   "metadata": {
    "id": "7Vvb-ePPepqg"
   },
   "outputs": [],
   "source": [
    "pre_trained_model = tf.keras.applications.inception_v3.InceptionV3(input_shape = (150, 150, 3), \n",
    "                                include_top = False, \n",
    "                                weights = 'imagenet')\n",
    "\n",
    "\n",
    "for layer in pre_trained_model.layers:\n",
    "    layer.trainable = False\n",
    "    "
   ]
  },
  {
   "cell_type": "code",
   "execution_count": 23,
   "metadata": {
    "colab": {
     "base_uri": "https://localhost:8080/"
    },
    "id": "8Lnup4mTniYf",
    "outputId": "04e44e9f-0a1b-4af6-dd83-27d9dc6162ac"
   },
   "outputs": [],
   "source": [
    "# pre_trained_model.summary()"
   ]
  },
  {
   "cell_type": "code",
   "execution_count": 24,
   "metadata": {
    "id": "JOgsYlcaetL4"
   },
   "outputs": [],
   "source": [
    "last_layer = pre_trained_model.get_layer('mixed7')\n",
    "last_output = last_layer.output"
   ]
  },
  {
   "cell_type": "code",
   "execution_count": 25,
   "metadata": {},
   "outputs": [],
   "source": [
    "model_check_point = tf.keras.callbacks.ModelCheckpoint('cashRec.h5', monitor='val_accuracy',save_best_only=True)\n",
    "early_stop = tf.keras.callbacks.EarlyStopping('val_loss', patience=5)\n",
    "callbacks = [early_stop, model_check_point]"
   ]
  },
  {
   "cell_type": "code",
   "execution_count": 26,
   "metadata": {
    "id": "4jXnCumMexCv"
   },
   "outputs": [],
   "source": [
    "# Flatten the output layer to 1 dimension\n",
    "x = tf.keras.layers.GlobalAveragePooling2D()(last_output)\n",
    "# Add a fully connected layer with 1,024 hidden units and ReLU activation\n",
    "x = tf.keras.layers.Dense(1024, activation='relu')(x)\n",
    "# Add a dropout rate of 0.2\n",
    "x = tf.keras.layers.Dropout(0.3)(x) \n",
    "\n",
    "x = tf.keras.layers.Dense(49, activation='relu')(x)\n",
    "# Add a final sigmoid layer for classification\n",
    "x = tf.keras.layers.Dense  (7, activation='softmax')(x)           \n",
    "\n",
    "model = tf.keras.Model(pre_trained_model.input, x) \n",
    "\n",
    "model.compile(optimizer = 'adam', \n",
    "              loss = 'sparse_categorical_crossentropy', \n",
    "              metrics = ['accuracy'])"
   ]
  },
  {
   "cell_type": "code",
   "execution_count": 27,
   "metadata": {
    "colab": {
     "base_uri": "https://localhost:8080/"
    },
    "id": "RG3l_QKTe1lQ",
    "outputId": "88e889dd-f9b8-4cc2-ec01-0145a096fc12"
   },
   "outputs": [
    {
     "name": "stdout",
     "output_type": "stream",
     "text": [
      "Epoch 1/20\n",
      "99/99 [==============================] - 89s 857ms/step - loss: 0.9777 - accuracy: 0.6843 - val_loss: 0.4413 - val_accuracy: 0.8714\n",
      "Epoch 2/20\n",
      "99/99 [==============================] - 84s 840ms/step - loss: 0.3660 - accuracy: 0.8867 - val_loss: 0.3891 - val_accuracy: 0.8571\n",
      "Epoch 3/20\n",
      "99/99 [==============================] - 85s 851ms/step - loss: 0.2564 - accuracy: 0.9198 - val_loss: 0.2714 - val_accuracy: 0.9062\n",
      "Epoch 4/20\n",
      "99/99 [==============================] - 83s 838ms/step - loss: 0.1974 - accuracy: 0.9368 - val_loss: 0.3274 - val_accuracy: 0.8829\n",
      "Epoch 5/20\n",
      "99/99 [==============================] - 84s 840ms/step - loss: 0.2005 - accuracy: 0.9327 - val_loss: 0.2958 - val_accuracy: 0.8881\n",
      "Epoch 6/20\n",
      "99/99 [==============================] - 85s 847ms/step - loss: 0.1946 - accuracy: 0.9316 - val_loss: 0.2533 - val_accuracy: 0.9167\n",
      "Epoch 7/20\n",
      "99/99 [==============================] - 83s 836ms/step - loss: 0.1521 - accuracy: 0.9479 - val_loss: 0.2508 - val_accuracy: 0.9090\n",
      "Epoch 8/20\n",
      "99/99 [==============================] - 84s 843ms/step - loss: 0.1464 - accuracy: 0.9492 - val_loss: 0.2778 - val_accuracy: 0.9010\n",
      "Epoch 9/20\n",
      "99/99 [==============================] - 83s 838ms/step - loss: 0.1533 - accuracy: 0.9476 - val_loss: 0.2109 - val_accuracy: 0.9286\n",
      "Epoch 10/20\n",
      "99/99 [==============================] - 84s 841ms/step - loss: 0.1447 - accuracy: 0.9506 - val_loss: 0.2746 - val_accuracy: 0.8995\n",
      "Epoch 11/20\n",
      "99/99 [==============================] - 84s 840ms/step - loss: 0.1365 - accuracy: 0.9529 - val_loss: 0.2585 - val_accuracy: 0.9062\n",
      "Epoch 12/20\n",
      "99/99 [==============================] - 83s 837ms/step - loss: 0.1294 - accuracy: 0.9559 - val_loss: 0.2022 - val_accuracy: 0.9262\n",
      "Epoch 13/20\n",
      "99/99 [==============================] - 84s 840ms/step - loss: 0.1206 - accuracy: 0.9552 - val_loss: 0.2069 - val_accuracy: 0.9281\n",
      "Epoch 14/20\n",
      "99/99 [==============================] - 83s 833ms/step - loss: 0.1249 - accuracy: 0.9559 - val_loss: 0.2312 - val_accuracy: 0.9167\n",
      "Epoch 15/20\n",
      "99/99 [==============================] - 83s 834ms/step - loss: 0.1193 - accuracy: 0.9597 - val_loss: 0.2375 - val_accuracy: 0.9157\n",
      "Epoch 16/20\n",
      "99/99 [==============================] - 83s 832ms/step - loss: 0.1162 - accuracy: 0.9597 - val_loss: 0.2523 - val_accuracy: 0.9105\n",
      "Epoch 17/20\n",
      "99/99 [==============================] - 83s 833ms/step - loss: 0.1068 - accuracy: 0.9635 - val_loss: 0.2682 - val_accuracy: 0.9119\n"
     ]
    }
   ],
   "source": [
    "history = model.fit(\n",
    "            train_images,\n",
    "            validation_data = validation_images,\n",
    "            epochs = 20,\n",
    "            verbose = 1, callbacks = callbacks)"
   ]
  },
  {
   "cell_type": "code",
   "execution_count": 28,
   "metadata": {
    "colab": {
     "base_uri": "https://localhost:8080/",
     "height": 545
    },
    "id": "t7xfRBKje5KZ",
    "outputId": "6cdc2cf1-8d78-4a42-8f4a-acd8b4d1c943"
   },
   "outputs": [],
   "source": [
    "import matplotlib.pyplot as plt\n",
    "acc = history.history['accuracy']\n",
    "val_acc = history.history['val_accuracy']\n",
    "loss = history.history['loss']\n",
    "val_loss = history.history['val_loss']\n",
    "epochs = range(len(acc))"
   ]
  },
  {
   "cell_type": "code",
   "execution_count": 29,
   "metadata": {},
   "outputs": [
    {
     "data": {
      "image/png": "[encoded data removed]",
      "text/plain": [
       "<Figure size 600x400 with 1 Axes>"
      ]
     },
     "metadata": {},
     "output_type": "display_data"
    }
   ],
   "source": [
    "plt.figure(figsize=(6,4))\n",
    "plt.plot(epochs, acc, 'r', label='Training accuracy')\n",
    "plt.plot(epochs, val_acc, 'b', label='Validation accuracy')\n",
    "plt.title('Training and validation accuracy')\n",
    "plt.legend()\n",
    "plt.savefig('train_val_acc.png', dpi = 400)\n",
    "plt.show()"
   ]
  },
  {
   "cell_type": "code",
   "execution_count": 30,
   "metadata": {},
   "outputs": [
    {
     "data": {
      "image/png": "[encoded data removed]",
      "text/plain": [
       "<Figure size 600x400 with 1 Axes>"
      ]
     },
     "metadata": {},
     "output_type": "display_data"
    }
   ],
   "source": [
    "plt.figure(figsize=(6,4))\n",
    "plt.plot(epochs, loss, 'r', label='Training Loss')\n",
    "plt.plot(epochs, val_loss, 'b', label='Validation Loss')\n",
    "plt.title('Training and validation loss')\n",
    "plt.legend()\n",
    "plt.savefig('train_val_loss.png', dpi = 400)\n",
    "plt.show()"
   ]
  },
  {
   "cell_type": "code",
   "execution_count": 33,
   "metadata": {
    "id": "3dOwAuw7fGLs"
   },
   "outputs": [],
   "source": [
    "model.save('cashRec.h5')"
   ]
  },
  {
   "cell_type": "code",
   "execution_count": 12,
   "metadata": {},
   "outputs": [],
   "source": [
    "test_images_scaled = test_images.map(lambda x, y: (data_rescale(x), y))"
   ]
  },
  {
   "cell_type": "code",
   "execution_count": 13,
   "metadata": {},
   "outputs": [],
   "source": [
    "import tensorflow as tf\n",
    "model = tf.keras.models.load_model('cashRec.h5')"
   ]
  },
  {
   "cell_type": "code",
   "execution_count": 14,
   "metadata": {
    "colab": {
     "base_uri": "https://localhost:8080/"
    },
    "id": "QaOGgFldfGIG",
    "outputId": "0c074f45-0b3b-4f3f-e22b-bf2803458973"
   },
   "outputs": [
    {
     "name": "stdout",
     "output_type": "stream",
     "text": [
      "43/43 [==============================] - 13s 266ms/step - loss: 0.2088 - accuracy: 0.9303\n",
      "evaluate_generator accuracy: 93.03%\n"
     ]
    }
   ],
   "source": [
    "scores = model.evaluate(test_images_scaled)\n",
    "print(\"%s%s: %.2f%%\" % (\"evaluate_generator \",model.metrics_names[1], scores[1]*100))"
   ]
  },
  {
   "cell_type": "code",
   "execution_count": 15,
   "metadata": {},
   "outputs": [
    {
     "name": "stdout",
     "output_type": "stream",
     "text": [
      "43/43 [==============================] - 13s 264ms/step\n"
     ]
    }
   ],
   "source": [
    "import numpy as np\n",
    "predictions = model.predict(test_images_scaled)\n",
    "predicted_labels = np.argmax(predictions, axis=1)\n",
    "true_labels = np.concatenate([y for x, y in test_images], axis=0)"
   ]
  },
  {
   "cell_type": "code",
   "execution_count": 16,
   "metadata": {},
   "outputs": [],
   "source": [
    "from sklearn.metrics import confusion_matrix, ConfusionMatrixDisplay\n",
    "cm = confusion_matrix(true_labels, predicted_labels)"
   ]
  },
  {
   "cell_type": "code",
   "execution_count": 17,
   "metadata": {},
   "outputs": [
    {
     "data": {
      "text/plain": [
       "array([[ 75,   0,   0,  18,   1,   0,   0],\n",
       "       [  0,  75,   0,   0,   0,   0,   6],\n",
       "       [  0,   1,  96,   1,   1,   2,   0],\n",
       "       [  3,   0,   1, 362,   4,   1,   1],\n",
       "       [  7,   4,   6,  12, 273,   7,   6],\n",
       "       [  0,   0,   3,   3,   0,  97,   1],\n",
       "       [  0,   0,   0,   4,   1,   0, 277]])"
      ]
     },
     "execution_count": 17,
     "metadata": {},
     "output_type": "execute_result"
    }
   ],
   "source": [
    "cm"
   ]
  },
  {
   "cell_type": "code",
   "execution_count": 18,
   "metadata": {},
   "outputs": [
    {
     "data": {
      "text/plain": [
       "array([0, 0, 0, ..., 6, 6, 6])"
      ]
     },
     "execution_count": 18,
     "metadata": {},
     "output_type": "execute_result"
    }
   ],
   "source": [
    "predicted_labels"
   ]
  },
  {
   "cell_type": "code",
   "execution_count": 19,
   "metadata": {},
   "outputs": [
    {
     "data": {
      "text/plain": [
       "array([0, 0, 0, ..., 6, 6, 6], dtype=int32)"
      ]
     },
     "execution_count": 19,
     "metadata": {},
     "output_type": "execute_result"
    }
   ],
   "source": [
    "true_labels"
   ]
  },
  {
   "cell_type": "code",
   "execution_count": 20,
   "metadata": {},
   "outputs": [
    {
     "data": {
      "text/plain": [
       "['fifty', 'five', 'fivehundred', 'hundred', 'ten', 'thousand', 'twenty']"
      ]
     },
     "execution_count": 20,
     "metadata": {},
     "output_type": "execute_result"
    }
   ],
   "source": [
    "test_images.class_names"
   ]
  },
  {
   "cell_type": "code",
   "execution_count": 24,
   "metadata": {},
   "outputs": [],
   "source": [
    "class_names = test_images.class_names"
   ]
  },
  {
   "cell_type": "code",
   "execution_count": 25,
   "metadata": {},
   "outputs": [],
   "source": [
    "import itertools\n",
    "import matplotlib.pyplot as plt\n",
    "def plot_confusion_matrix(cm, classes,\n",
    "                          normalize=False,\n",
    "                          title='Confusion matrix',\n",
    "                          cmap=plt.cm.Blues):\n",
    "    \"\"\"\n",
    "    This function prints and plots the confusion matrix.\n",
    "    Normalization can be applied by setting `normalize=True`.\n",
    "    \"\"\"\n",
    "    plt.figure(figsize = (10,6))\n",
    "    plt.imshow(cm, interpolation='nearest', cmap=cmap)\n",
    "    plt.title(title)\n",
    "    plt.colorbar()\n",
    "    tick_marks = np.arange(len(classes))\n",
    "    plt.xticks(tick_marks, classes, rotation=90)\n",
    "    plt.yticks(tick_marks, classes)\n",
    "\n",
    "    fmt = '.2f' if normalize else 'd'\n",
    "    thresh = cm.max() / 2.\n",
    "    for i, j in itertools.product(range(cm.shape[0]), range(cm.shape[1])):\n",
    "        plt.text(j, i, format(cm[i, j], fmt),\n",
    "                 horizontalalignment=\"center\",\n",
    "                 color=\"white\" if cm[i, j] > thresh else \"black\")\n",
    "\n",
    "    plt.ylabel('True label')\n",
    "    plt.xlabel('Predicted label')\n",
    "    plt.tight_layout()\n",
    "    plt.savefig('confusion_matrix.png', dpi = 500)\n",
    "    plt.show()"
   ]
  },
  {
   "cell_type": "code",
   "execution_count": 26,
   "metadata": {},
   "outputs": [
    {
     "data": {
      "image/png": "[encoded data removed]",
      "text/plain": [
       "<Figure size 1000x600 with 2 Axes>"
      ]
     },
     "metadata": {},
     "output_type": "display_data"
    }
   ],
   "source": [
    "# Plot non-normalized confusion matrix\n",
    "plot_confusion_matrix(cm, classes=class_names,\n",
    "                      title='Confusion matrix, without normalization')"
   ]
  },
  {
   "cell_type": "code",
   "execution_count": 27,
   "metadata": {},
   "outputs": [],
   "source": [
    "from sklearn.metrics import precision_score, recall_score, f1_score"
   ]
  },
  {
   "cell_type": "code",
   "execution_count": 28,
   "metadata": {},
   "outputs": [
    {
     "name": "stdout",
     "output_type": "stream",
     "text": [
      "Precision = 93.03%\n",
      "Recall = 93.03%\n",
      "F1-score = 93.03%\n"
     ]
    }
   ],
   "source": [
    "precision = precision_score(true_labels, predicted_labels, average ='micro')\n",
    "recall    = recall_score(true_labels, predicted_labels, average ='micro')\n",
    "f1        = f1_score(true_labels, predicted_labels, average ='micro')\n",
    "\n",
    "print(f\"Precision = {round(precision * 100, 2)}%\")\n",
    "print(f\"Recall = {round(recall * 100, 2)}%\")\n",
    "print(f\"F1-score = {round(f1 * 100, 2)}%\")"
   ]
  },
  {
   "cell_type": "code",
   "execution_count": 45,
   "metadata": {},
   "outputs": [
    {
     "name": "stdout",
     "output_type": "stream",
     "text": [
      "'Cash recognition-final.ipynb'\t confusion-matrix.png\t train_val_loss.png\n",
      " bank_notes\t\t\t install_gpu_driver.py\t tutorials\n",
      " bank_notes.zip\t\t\t src\n",
      " cashRec.h5\t\t\t train_val_acc.png\n"
     ]
    }
   ],
   "source": [
    "!ls"
   ]
  },
  {
   "cell_type": "code",
   "execution_count": 76,
   "metadata": {},
   "outputs": [
    {
     "name": "stdout",
     "output_type": "stream",
     "text": [
      "\tzip warning: name not matched: Cash\n",
      "\tzip warning: name not matched: recognition-final.ipynb\n",
      "  adding: confusion-matrix.png (deflated 14%)\n",
      "  adding: train_val_loss.png (deflated 18%)\n",
      "  adding: cashRec.h5 (deflated 8%)\n",
      "  adding: train_val_acc.png (deflated 17%)\n"
     ]
    }
   ],
   "source": [
    "%%bash\n",
    "zip cashproj.zip cash-recognition-final.ipynb confusion-matrix.png train_val_loss.png cashRec.h5  train_val_acc.png "
   ]
  },
  {
   "cell_type": "code",
   "execution_count": null,
   "metadata": {},
   "outputs": [],
   "source": []
  }
 ],
 "metadata": {
  "accelerator": "GPU",
  "colab": {
   "provenance": []
  },
  "environment": {
   "kernel": "python3",
   "name": "common-cu110.m108",
   "type": "gcloud",
   "uri": "gcr.io/deeplearning-platform-release/base-cu110:m108"
  },
  "gpuClass": "standard",
  "kernelspec": {
   "display_name": "Python 3",
   "language": "python",
   "name": "python3"
  },
  "language_info": {
   "codemirror_mode": {
    "name": "ipython",
    "version": 3
   },
   "file_extension": ".py",
   "mimetype": "text/x-python",
   "name": "python",
   "nbconvert_exporter": "python",
   "pygments_lexer": "ipython3",
   "version": "3.8.10"
  },
  "vscode": {
   "interpreter": {
    "hash": "916dbcbb3f70747c44a77c7bcd40155683ae19c65e1c03b4aa3499c5328201f1"
   }
  }
 },
 "nbformat": 4,
 "nbformat_minor": 4
}
